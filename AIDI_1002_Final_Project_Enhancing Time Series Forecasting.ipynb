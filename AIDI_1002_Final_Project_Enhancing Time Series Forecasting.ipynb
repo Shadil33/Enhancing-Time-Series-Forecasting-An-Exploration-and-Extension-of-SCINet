{
  "cells": [
    {
      "cell_type": "markdown",
      "metadata": {
        "id": "5tr_jEBnh-jv"
      },
      "source": [
        "# **Enhancing Time Series Forecasting: An Exploration and Extension of SCINet**\n",
        "\n",
        "### Group Members:\n",
        "#### 1) Shadil Roshan Vilakkathil (200583712)\n",
        "#### 2) Rajat Paul (200549174)\n",
        "\n"
      ]
    },
    {
      "cell_type": "markdown",
      "metadata": {
        "id": "PeKSxMvrh-j0"
      },
      "source": [
        "### **INTRODUCTION:**\n",
        "In the field of data science, time series forecasting plays a pivotal role in predicting future events based on historical data. This is especially crucial in domains such as finance, weather forecasting, and demand planning. The introduction of deep learning techniques has revolutionized this field, offering models that can capture complex patterns in time series data.\n",
        "\n",
        "\n",
        "#### **AIM** :\n",
        "The aim of this project is to explore the intricacies of SCINet, a state-of-the-art deep learning model for time series forecasting, and to extend its application to varied datasets. By doing so, we seek to evaluate the model's generalizability and performance in different scenarios and identify any room for enhancements.\n",
        "\n",
        "*********************************************************************************************************************\n",
        "#### **Github Repo:**\n",
        "The project's code, datasets, and associated resources are maintained in a dedicated GitHub repository accessible at https://github.com/Shadil33/Enhancing-Time-Series-Forecasting-An-Exploration-and-Extension-of-SCINet.git\n",
        "*********************************************************************************************************************\n",
        "#### **DESCRIPTION OF PAPER:**\n",
        "The paper introduces SCINet, a deep learning architecture that addresses the intricacies of time series forecasting. SCINet is distinct in its use of a hierarchical structure that leverages downsampling and convolutional layers to extract features across various scales and dependencies within the data. This innovative design facilitates a refined analysis of temporal sequences, enabling the model to capture complex patterns and trends that are often missed by traditional methods. Through extensive experiments and comparisons, the authors of the paper demonstrate SCINet's superior forecasting abilities on multiple challenging time series datasets, establishing it as a significant advancement in predictive modeling.\n",
        "*********************************************************************************************************************\n",
        "#### **PROBLEM STATEMENT :**\n",
        "Despite the progress made by SCINet, there remain questions about its performance across diverse datasets with varying levels of complexity. This project aims to address these questions and explore whether simple neural network models, such as MLP, can provide competitive results.\n",
        "\n",
        "*********************************************************************************************************************\n",
        "#### **CONTEXT OF THE PROBLEM:**\n",
        "Many models excel under certain conditions but falter in others. SCINet's layered structure is complex and may not be the optimal solution in all circumstances. This project investigates the context in which SCINet thrives and areas where simpler models might be more appropriate.\n",
        "\n",
        "*********************************************************************************************************************\n",
        "#### **SOLUTION:**\n",
        "The proposed solution involves implementing an MLP model as a benchmark against SCINet. By training both models on the same datasets and comparing their performance, we aim to draw meaningful conclusions about their applicability and efficiency.\n"
      ]
    },
    {
      "cell_type": "markdown",
      "metadata": {
        "id": "77PIPLQ-h-j1"
      },
      "source": [
        "## Background\n",
        "*********************************************************************************************************************\n",
        "Time series forecasting is an indispensable tool in various domains, including finance, healthcare, and environmental science, enabling informed decision-making and strategic planning. The advent of deep learning has propelled advancements in this field, enhancing both the accuracy and efficiency of predictive models.\n",
        "\n",
        "In our endeavor, we delved into time series analysis using deep neural networks, focusing on the innovative SCINet architecture developed by Liu et al. This architecture is distinguished by its hierarchical downsample-convolve-interact framework, which has shown substantial improvements over conventional approaches in capturing the intricate temporal dynamics inherent in time series data.\n",
        "\n",
        "A critical challenge in time series forecasting is adapting models to datasets with diverse characteristics and behaviors, such as different seasonalities and trends. The SCINet model's innovative approach is compelling, yet its robustness against a variety of datasets remains to be thoroughly evaluated. Our project aims to replicate the original SCINet study's results and broaden its application by testing it on the ETTh1 dataset—a dataset with distinct temporal patterns and characteristics. This extension seeks to identify the model's strengths and potential limitations that were not evident in the original research.\n",
        "\n",
        "Our work reinforces the SCINet model's reproducibility—a fundamental aspect of scientific advancement. Additionally, by applying SCINet to the ETTh1 dataset, we gain valuable insights into the model's flexibility and performance across different time series data, pushing the frontiers of current forecasting capabilities.\n",
        "\n",
        "To augment our methodology further, we incorporated a Multilayer Perceptron (MLP), a fundamental type of feedforward artificial neural network. This addition serves a dual purpose: to compare a simpler neural network's performance against the sophisticated SCINet and to understand the trade-offs between model complexity and forecasting efficacy.\n",
        "\n",
        "Through this exploration, we anticipate identifying potential enhancements for SCINet, contributing to the development of more generalized models capable of maintaining high predictive accuracy across diverse datasets. Our findings and methodologies are poised to be instrumental for both researchers and practitioners eager to leverage deep learning for sophisticated forecasting tasks.\n",
        "\n",
        "\n",
        "\n",
        "*********************************************************************************************************************\n",
        "\n",
        "\n",
        "\n",
        "\n"
      ]
    },
    {
      "cell_type": "markdown",
      "metadata": {
        "id": "deODH3tMh-j2"
      },
      "source": [
        "# Implement paper code :\n",
        "*********************************************************************************************************************\n",
        "\n",
        "*\n",
        "\n"
      ]
    },
    {
      "cell_type": "code",
      "execution_count": 1,
      "metadata": {
        "scrolled": true,
        "colab": {
          "base_uri": "https://localhost:8080/"
        },
        "id": "cgJEV1sEJJu4",
        "outputId": "500f6b5f-3b00-4dab-828f-20e34f96806a"
      },
      "outputs": [
        {
          "output_type": "stream",
          "name": "stdout",
          "text": [
            "Requirement already satisfied: torch in /usr/local/lib/python3.10/dist-packages (2.2.1+cu121)\n",
            "Requirement already satisfied: filelock in /usr/local/lib/python3.10/dist-packages (from torch) (3.13.4)\n",
            "Requirement already satisfied: typing-extensions>=4.8.0 in /usr/local/lib/python3.10/dist-packages (from torch) (4.11.0)\n",
            "Requirement already satisfied: sympy in /usr/local/lib/python3.10/dist-packages (from torch) (1.12)\n",
            "Requirement already satisfied: networkx in /usr/local/lib/python3.10/dist-packages (from torch) (3.3)\n",
            "Requirement already satisfied: jinja2 in /usr/local/lib/python3.10/dist-packages (from torch) (3.1.3)\n",
            "Requirement already satisfied: fsspec in /usr/local/lib/python3.10/dist-packages (from torch) (2023.6.0)\n",
            "Collecting nvidia-cuda-nvrtc-cu12==12.1.105 (from torch)\n",
            "  Using cached nvidia_cuda_nvrtc_cu12-12.1.105-py3-none-manylinux1_x86_64.whl (23.7 MB)\n",
            "Collecting nvidia-cuda-runtime-cu12==12.1.105 (from torch)\n",
            "  Using cached nvidia_cuda_runtime_cu12-12.1.105-py3-none-manylinux1_x86_64.whl (823 kB)\n",
            "Collecting nvidia-cuda-cupti-cu12==12.1.105 (from torch)\n",
            "  Using cached nvidia_cuda_cupti_cu12-12.1.105-py3-none-manylinux1_x86_64.whl (14.1 MB)\n",
            "Collecting nvidia-cudnn-cu12==8.9.2.26 (from torch)\n",
            "  Using cached nvidia_cudnn_cu12-8.9.2.26-py3-none-manylinux1_x86_64.whl (731.7 MB)\n",
            "Collecting nvidia-cublas-cu12==12.1.3.1 (from torch)\n",
            "  Using cached nvidia_cublas_cu12-12.1.3.1-py3-none-manylinux1_x86_64.whl (410.6 MB)\n",
            "Collecting nvidia-cufft-cu12==11.0.2.54 (from torch)\n",
            "  Using cached nvidia_cufft_cu12-11.0.2.54-py3-none-manylinux1_x86_64.whl (121.6 MB)\n",
            "Collecting nvidia-curand-cu12==10.3.2.106 (from torch)\n",
            "  Using cached nvidia_curand_cu12-10.3.2.106-py3-none-manylinux1_x86_64.whl (56.5 MB)\n",
            "Collecting nvidia-cusolver-cu12==11.4.5.107 (from torch)\n",
            "  Using cached nvidia_cusolver_cu12-11.4.5.107-py3-none-manylinux1_x86_64.whl (124.2 MB)\n",
            "Collecting nvidia-cusparse-cu12==12.1.0.106 (from torch)\n",
            "  Using cached nvidia_cusparse_cu12-12.1.0.106-py3-none-manylinux1_x86_64.whl (196.0 MB)\n",
            "Collecting nvidia-nccl-cu12==2.19.3 (from torch)\n",
            "  Using cached nvidia_nccl_cu12-2.19.3-py3-none-manylinux1_x86_64.whl (166.0 MB)\n",
            "Collecting nvidia-nvtx-cu12==12.1.105 (from torch)\n",
            "  Using cached nvidia_nvtx_cu12-12.1.105-py3-none-manylinux1_x86_64.whl (99 kB)\n",
            "Requirement already satisfied: triton==2.2.0 in /usr/local/lib/python3.10/dist-packages (from torch) (2.2.0)\n",
            "Collecting nvidia-nvjitlink-cu12 (from nvidia-cusolver-cu12==11.4.5.107->torch)\n",
            "  Using cached nvidia_nvjitlink_cu12-12.4.127-py3-none-manylinux2014_x86_64.whl (21.1 MB)\n",
            "Requirement already satisfied: MarkupSafe>=2.0 in /usr/local/lib/python3.10/dist-packages (from jinja2->torch) (2.1.5)\n",
            "Requirement already satisfied: mpmath>=0.19 in /usr/local/lib/python3.10/dist-packages (from sympy->torch) (1.3.0)\n",
            "Installing collected packages: nvidia-nvtx-cu12, nvidia-nvjitlink-cu12, nvidia-nccl-cu12, nvidia-curand-cu12, nvidia-cufft-cu12, nvidia-cuda-runtime-cu12, nvidia-cuda-nvrtc-cu12, nvidia-cuda-cupti-cu12, nvidia-cublas-cu12, nvidia-cusparse-cu12, nvidia-cudnn-cu12, nvidia-cusolver-cu12\n",
            "Successfully installed nvidia-cublas-cu12-12.1.3.1 nvidia-cuda-cupti-cu12-12.1.105 nvidia-cuda-nvrtc-cu12-12.1.105 nvidia-cuda-runtime-cu12-12.1.105 nvidia-cudnn-cu12-8.9.2.26 nvidia-cufft-cu12-11.0.2.54 nvidia-curand-cu12-10.3.2.106 nvidia-cusolver-cu12-11.4.5.107 nvidia-cusparse-cu12-12.1.0.106 nvidia-nccl-cu12-2.19.3 nvidia-nvjitlink-cu12-12.4.127 nvidia-nvtx-cu12-12.1.105\n"
          ]
        }
      ],
      "source": [
        "!pip install torch\n"
      ]
    },
    {
      "cell_type": "code",
      "source": [
        "!pip install torchsummary"
      ],
      "metadata": {
        "colab": {
          "base_uri": "https://localhost:8080/"
        },
        "id": "E3kI3q8fNYxS",
        "outputId": "8c8b098c-bc4a-4aef-c410-762f1cc09ba6"
      },
      "execution_count": 7,
      "outputs": [
        {
          "output_type": "stream",
          "name": "stdout",
          "text": [
            "Requirement already satisfied: torchsummary in /usr/local/lib/python3.10/dist-packages (1.5.1)\n"
          ]
        }
      ]
    },
    {
      "cell_type": "markdown",
      "metadata": {
        "id": "CRxO3O81JJu5"
      },
      "source": [
        "## 1) Load and Preprocess the Data"
      ]
    },
    {
      "cell_type": "code",
      "execution_count": 5,
      "metadata": {
        "colab": {
          "base_uri": "https://localhost:8080/"
        },
        "id": "uIGku1wsJJu5",
        "outputId": "b138d75c-c81d-4255-e216-7a7f10879a12"
      },
      "outputs": [
        {
          "output_type": "stream",
          "name": "stdout",
          "text": [
            "Shape of inputs: torch.Size([17324, 96, 10])\n",
            "Shape of labels: torch.Size([17324, 1])\n"
          ]
        }
      ],
      "source": [
        "import pandas as pd\n",
        "from sklearn.preprocessing import MinMaxScaler\n",
        "import torch\n",
        "\n",
        "# Load the data\n",
        "data = pd.read_csv('ETTh1.csv')\n",
        "\n",
        "# Convert 'date' to datetime and extract relevant features\n",
        "data['date'] = pd.to_datetime(data['date'])\n",
        "data['hour'] = data['date'].dt.hour\n",
        "data['day'] = data['date'].dt.day\n",
        "data['month'] = data['date'].dt.month\n",
        "data['weekday'] = data['date'].dt.weekday\n",
        "\n",
        "# Drop the original 'date' column\n",
        "data = data.drop('date', axis=1)\n",
        "\n",
        "# Assume the target variable is the last column, adjust if needed\n",
        "features = data.iloc[:, :-1].values\n",
        "targets = data.iloc[:, -1].values\n",
        "\n",
        "# Normalize the features\n",
        "scaler = MinMaxScaler()\n",
        "features_scaled = scaler.fit_transform(features)\n",
        "\n",
        "# Convert to PyTorch tensors\n",
        "features_scaled = torch.tensor(features_scaled, dtype=torch.float32)\n",
        "targets = torch.tensor(targets, dtype=torch.float32).unsqueeze(1)  # Add dimension for targets\n",
        "\n",
        "# Reshape data to fit model input [batch, sequence_length, features]\n",
        "sequence_length = 96  # Defined sequence length, adjust based on your model setup\n",
        "num_samples = len(features_scaled) - sequence_length\n",
        "\n",
        "# Initialize tensors for inputs and labels with correct shapes\n",
        "inputs = torch.zeros((num_samples, sequence_length, features_scaled.shape[1]))\n",
        "labels = torch.zeros((num_samples, 1))  # Labels tensor shape corrected\n",
        "\n",
        "# Fill the tensors with the appropriate sequences from the features and targets\n",
        "for i in range(num_samples):\n",
        "    inputs[i] = features_scaled[i:i+sequence_length]  # Take all feature columns for the sequence\n",
        "    labels[i] = targets[i+sequence_length]  # The target value is just the last feature at the end of the sequence\n",
        "\n",
        "# Print the shape of the prepared tensors\n",
        "print(f'Shape of inputs: {inputs.shape}')\n",
        "print(f'Shape of labels: {labels.shape}')\n",
        "\n",
        "\n",
        "\n",
        "\n",
        "\n"
      ]
    },
    {
      "cell_type": "markdown",
      "source": [
        "We loaded the ETTh1.csv dataset and performed the following preprocessing steps:\n",
        "\n",
        "1. Parsed the 'date' column to a datetime object.\n",
        "2. Extracted time-based features: hour, day, month, and weekday.\n",
        "3. Dropped the original 'date' column from the dataset.\n",
        "4. Normalized all feature columns using MinMaxScaler.\n",
        "5. Converted the normalized features and the targets into PyTorch tensors.\n",
        "6. Reshaped the tensors to create a sequence of inputs suitable for time series forecasting.\n",
        "\n",
        "The final shapes of our processed tensors are as follows:\n",
        "\n",
        "- `inputs`: A tensor containing the input sequences with a shape of `[17324, 96, 10]`, indicating that there are 17,324 samples, each with a sequence length of 96 time steps and 10 features.\n",
        "\n",
        "- `labels`: A tensor containing the target values corresponding to each input sequence with a shape of `[17324, 1]`, showing that there are 17,324 target values, one for each sample.\n",
        "\n",
        "These tensors are now ready to be used for training the SCINet model.\n"
      ],
      "metadata": {
        "id": "iKaJchDILXFa"
      }
    },
    {
      "cell_type": "markdown",
      "source": [
        "## 2) Initialize the SCINet Model"
      ],
      "metadata": {
        "id": "ZMjTdN4vLcOx"
      }
    },
    {
      "cell_type": "code",
      "source": [
        "from SCINet import SCINet\n",
        "\n",
        "# Assuming features_scaled is a 2D tensor with shape [num_samples, num_features]\n",
        "# and you've processed the input sequence length of 96 time steps\n",
        "\n",
        "# The number of features is the second dimension of features_scaled\n",
        "num_features = features_scaled.shape[1]  # This should not raise an IndexError\n",
        "\n",
        "# Set the parameters for the model\n",
        "output_len = 24  # The number of future time steps you want to predict\n",
        "input_len = 96   # The sequence length that you're using as input\n",
        "\n",
        "# Initialize the SCINet model\n",
        "model = SCINet(\n",
        "    output_len=output_len,\n",
        "    input_len=input_len,\n",
        "    input_dim=num_features,  # The number of features in the input\n",
        "    hid_size=1,  # Hidden size parameter, adjust as needed\n",
        "    num_stacks=1,  # Number of stacks, adjust if you're using a more complex architecture\n",
        "    num_levels=3,  # Number of levels in SCINet\n",
        "    kernel=5,  # Kernel size for convolutions within the SCINet model\n",
        "    dropout=0.5,  # Dropout rate\n",
        "    single_step_output_One=0,  # Set to 1 if you only want to predict one future time step\n",
        "    positionalE=True,  # Whether to use positional encoding\n",
        "    modified=True  # Whether to use the modified version of SCINet\n",
        ")\n",
        "\n",
        "# Check if CUDA is available and move the model to GPU if it is\n",
        "if torch.cuda.is_available():\n",
        "    model.cuda()\n",
        "    print(\"Model has been successfully initialized and moved to GPU.\")\n",
        "else:\n",
        "    print(\"Model has been successfully initialized and will run on CPU.\")\n",
        "\n",
        "# Print the initialized model (show only the first layer to limit the output size)\n",
        "print(next(model.children()))  # Print only the first layer/module of the model\n",
        "\n"
      ],
      "metadata": {
        "colab": {
          "base_uri": "https://localhost:8080/"
        },
        "id": "pE1FrxtMLlip",
        "outputId": "675b017a-8227-426c-c2c5-dc6a4136e26b"
      },
      "execution_count": 9,
      "outputs": [
        {
          "output_type": "stream",
          "name": "stdout",
          "text": [
            "Model has been successfully initialized and will run on CPU.\n",
            "EncoderTree(\n",
            "  (SCINet_Tree): SCINet_Tree(\n",
            "    (workingblock): LevelSCINet(\n",
            "      (interact): InteractorLevel(\n",
            "        (level): Interactor(\n",
            "          (split): Splitting()\n",
            "          (phi): Sequential(\n",
            "            (0): ReplicationPad1d((3, 3))\n",
            "            (1): Conv1d(10, 10, kernel_size=(5,), stride=(1,))\n",
            "            (2): LeakyReLU(negative_slope=0.01, inplace=True)\n",
            "            (3): Dropout(p=0.5, inplace=False)\n",
            "            (4): Conv1d(10, 10, kernel_size=(3,), stride=(1,))\n",
            "            (5): Tanh()\n",
            "          )\n",
            "          (psi): Sequential(\n",
            "            (0): ReplicationPad1d((3, 3))\n",
            "            (1): Conv1d(10, 10, kernel_size=(5,), stride=(1,))\n",
            "            (2): LeakyReLU(negative_slope=0.01, inplace=True)\n",
            "            (3): Dropout(p=0.5, inplace=False)\n",
            "            (4): Conv1d(10, 10, kernel_size=(3,), stride=(1,))\n",
            "            (5): Tanh()\n",
            "          )\n",
            "          (P): Sequential(\n",
            "            (0): ReplicationPad1d((3, 3))\n",
            "            (1): Conv1d(10, 10, kernel_size=(5,), stride=(1,))\n",
            "            (2): LeakyReLU(negative_slope=0.01, inplace=True)\n",
            "            (3): Dropout(p=0.5, inplace=False)\n",
            "            (4): Conv1d(10, 10, kernel_size=(3,), stride=(1,))\n",
            "            (5): Tanh()\n",
            "          )\n",
            "          (U): Sequential(\n",
            "            (0): ReplicationPad1d((3, 3))\n",
            "            (1): Conv1d(10, 10, kernel_size=(5,), stride=(1,))\n",
            "            (2): LeakyReLU(negative_slope=0.01, inplace=True)\n",
            "            (3): Dropout(p=0.5, inplace=False)\n",
            "            (4): Conv1d(10, 10, kernel_size=(3,), stride=(1,))\n",
            "            (5): Tanh()\n",
            "          )\n",
            "        )\n",
            "      )\n",
            "    )\n",
            "    (SCINet_Tree_odd): SCINet_Tree(\n",
            "      (workingblock): LevelSCINet(\n",
            "        (interact): InteractorLevel(\n",
            "          (level): Interactor(\n",
            "            (split): Splitting()\n",
            "            (phi): Sequential(\n",
            "              (0): ReplicationPad1d((3, 3))\n",
            "              (1): Conv1d(10, 10, kernel_size=(5,), stride=(1,))\n",
            "              (2): LeakyReLU(negative_slope=0.01, inplace=True)\n",
            "              (3): Dropout(p=0.5, inplace=False)\n",
            "              (4): Conv1d(10, 10, kernel_size=(3,), stride=(1,))\n",
            "              (5): Tanh()\n",
            "            )\n",
            "            (psi): Sequential(\n",
            "              (0): ReplicationPad1d((3, 3))\n",
            "              (1): Conv1d(10, 10, kernel_size=(5,), stride=(1,))\n",
            "              (2): LeakyReLU(negative_slope=0.01, inplace=True)\n",
            "              (3): Dropout(p=0.5, inplace=False)\n",
            "              (4): Conv1d(10, 10, kernel_size=(3,), stride=(1,))\n",
            "              (5): Tanh()\n",
            "            )\n",
            "            (P): Sequential(\n",
            "              (0): ReplicationPad1d((3, 3))\n",
            "              (1): Conv1d(10, 10, kernel_size=(5,), stride=(1,))\n",
            "              (2): LeakyReLU(negative_slope=0.01, inplace=True)\n",
            "              (3): Dropout(p=0.5, inplace=False)\n",
            "              (4): Conv1d(10, 10, kernel_size=(3,), stride=(1,))\n",
            "              (5): Tanh()\n",
            "            )\n",
            "            (U): Sequential(\n",
            "              (0): ReplicationPad1d((3, 3))\n",
            "              (1): Conv1d(10, 10, kernel_size=(5,), stride=(1,))\n",
            "              (2): LeakyReLU(negative_slope=0.01, inplace=True)\n",
            "              (3): Dropout(p=0.5, inplace=False)\n",
            "              (4): Conv1d(10, 10, kernel_size=(3,), stride=(1,))\n",
            "              (5): Tanh()\n",
            "            )\n",
            "          )\n",
            "        )\n",
            "      )\n",
            "      (SCINet_Tree_odd): SCINet_Tree(\n",
            "        (workingblock): LevelSCINet(\n",
            "          (interact): InteractorLevel(\n",
            "            (level): Interactor(\n",
            "              (split): Splitting()\n",
            "              (phi): Sequential(\n",
            "                (0): ReplicationPad1d((3, 3))\n",
            "                (1): Conv1d(10, 10, kernel_size=(5,), stride=(1,))\n",
            "                (2): LeakyReLU(negative_slope=0.01, inplace=True)\n",
            "                (3): Dropout(p=0.5, inplace=False)\n",
            "                (4): Conv1d(10, 10, kernel_size=(3,), stride=(1,))\n",
            "                (5): Tanh()\n",
            "              )\n",
            "              (psi): Sequential(\n",
            "                (0): ReplicationPad1d((3, 3))\n",
            "                (1): Conv1d(10, 10, kernel_size=(5,), stride=(1,))\n",
            "                (2): LeakyReLU(negative_slope=0.01, inplace=True)\n",
            "                (3): Dropout(p=0.5, inplace=False)\n",
            "                (4): Conv1d(10, 10, kernel_size=(3,), stride=(1,))\n",
            "                (5): Tanh()\n",
            "              )\n",
            "              (P): Sequential(\n",
            "                (0): ReplicationPad1d((3, 3))\n",
            "                (1): Conv1d(10, 10, kernel_size=(5,), stride=(1,))\n",
            "                (2): LeakyReLU(negative_slope=0.01, inplace=True)\n",
            "                (3): Dropout(p=0.5, inplace=False)\n",
            "                (4): Conv1d(10, 10, kernel_size=(3,), stride=(1,))\n",
            "                (5): Tanh()\n",
            "              )\n",
            "              (U): Sequential(\n",
            "                (0): ReplicationPad1d((3, 3))\n",
            "                (1): Conv1d(10, 10, kernel_size=(5,), stride=(1,))\n",
            "                (2): LeakyReLU(negative_slope=0.01, inplace=True)\n",
            "                (3): Dropout(p=0.5, inplace=False)\n",
            "                (4): Conv1d(10, 10, kernel_size=(3,), stride=(1,))\n",
            "                (5): Tanh()\n",
            "              )\n",
            "            )\n",
            "          )\n",
            "        )\n",
            "      )\n",
            "      (SCINet_Tree_even): SCINet_Tree(\n",
            "        (workingblock): LevelSCINet(\n",
            "          (interact): InteractorLevel(\n",
            "            (level): Interactor(\n",
            "              (split): Splitting()\n",
            "              (phi): Sequential(\n",
            "                (0): ReplicationPad1d((3, 3))\n",
            "                (1): Conv1d(10, 10, kernel_size=(5,), stride=(1,))\n",
            "                (2): LeakyReLU(negative_slope=0.01, inplace=True)\n",
            "                (3): Dropout(p=0.5, inplace=False)\n",
            "                (4): Conv1d(10, 10, kernel_size=(3,), stride=(1,))\n",
            "                (5): Tanh()\n",
            "              )\n",
            "              (psi): Sequential(\n",
            "                (0): ReplicationPad1d((3, 3))\n",
            "                (1): Conv1d(10, 10, kernel_size=(5,), stride=(1,))\n",
            "                (2): LeakyReLU(negative_slope=0.01, inplace=True)\n",
            "                (3): Dropout(p=0.5, inplace=False)\n",
            "                (4): Conv1d(10, 10, kernel_size=(3,), stride=(1,))\n",
            "                (5): Tanh()\n",
            "              )\n",
            "              (P): Sequential(\n",
            "                (0): ReplicationPad1d((3, 3))\n",
            "                (1): Conv1d(10, 10, kernel_size=(5,), stride=(1,))\n",
            "                (2): LeakyReLU(negative_slope=0.01, inplace=True)\n",
            "                (3): Dropout(p=0.5, inplace=False)\n",
            "                (4): Conv1d(10, 10, kernel_size=(3,), stride=(1,))\n",
            "                (5): Tanh()\n",
            "              )\n",
            "              (U): Sequential(\n",
            "                (0): ReplicationPad1d((3, 3))\n",
            "                (1): Conv1d(10, 10, kernel_size=(5,), stride=(1,))\n",
            "                (2): LeakyReLU(negative_slope=0.01, inplace=True)\n",
            "                (3): Dropout(p=0.5, inplace=False)\n",
            "                (4): Conv1d(10, 10, kernel_size=(3,), stride=(1,))\n",
            "                (5): Tanh()\n",
            "              )\n",
            "            )\n",
            "          )\n",
            "        )\n",
            "      )\n",
            "    )\n",
            "    (SCINet_Tree_even): SCINet_Tree(\n",
            "      (workingblock): LevelSCINet(\n",
            "        (interact): InteractorLevel(\n",
            "          (level): Interactor(\n",
            "            (split): Splitting()\n",
            "            (phi): Sequential(\n",
            "              (0): ReplicationPad1d((3, 3))\n",
            "              (1): Conv1d(10, 10, kernel_size=(5,), stride=(1,))\n",
            "              (2): LeakyReLU(negative_slope=0.01, inplace=True)\n",
            "              (3): Dropout(p=0.5, inplace=False)\n",
            "              (4): Conv1d(10, 10, kernel_size=(3,), stride=(1,))\n",
            "              (5): Tanh()\n",
            "            )\n",
            "            (psi): Sequential(\n",
            "              (0): ReplicationPad1d((3, 3))\n",
            "              (1): Conv1d(10, 10, kernel_size=(5,), stride=(1,))\n",
            "              (2): LeakyReLU(negative_slope=0.01, inplace=True)\n",
            "              (3): Dropout(p=0.5, inplace=False)\n",
            "              (4): Conv1d(10, 10, kernel_size=(3,), stride=(1,))\n",
            "              (5): Tanh()\n",
            "            )\n",
            "            (P): Sequential(\n",
            "              (0): ReplicationPad1d((3, 3))\n",
            "              (1): Conv1d(10, 10, kernel_size=(5,), stride=(1,))\n",
            "              (2): LeakyReLU(negative_slope=0.01, inplace=True)\n",
            "              (3): Dropout(p=0.5, inplace=False)\n",
            "              (4): Conv1d(10, 10, kernel_size=(3,), stride=(1,))\n",
            "              (5): Tanh()\n",
            "            )\n",
            "            (U): Sequential(\n",
            "              (0): ReplicationPad1d((3, 3))\n",
            "              (1): Conv1d(10, 10, kernel_size=(5,), stride=(1,))\n",
            "              (2): LeakyReLU(negative_slope=0.01, inplace=True)\n",
            "              (3): Dropout(p=0.5, inplace=False)\n",
            "              (4): Conv1d(10, 10, kernel_size=(3,), stride=(1,))\n",
            "              (5): Tanh()\n",
            "            )\n",
            "          )\n",
            "        )\n",
            "      )\n",
            "      (SCINet_Tree_odd): SCINet_Tree(\n",
            "        (workingblock): LevelSCINet(\n",
            "          (interact): InteractorLevel(\n",
            "            (level): Interactor(\n",
            "              (split): Splitting()\n",
            "              (phi): Sequential(\n",
            "                (0): ReplicationPad1d((3, 3))\n",
            "                (1): Conv1d(10, 10, kernel_size=(5,), stride=(1,))\n",
            "                (2): LeakyReLU(negative_slope=0.01, inplace=True)\n",
            "                (3): Dropout(p=0.5, inplace=False)\n",
            "                (4): Conv1d(10, 10, kernel_size=(3,), stride=(1,))\n",
            "                (5): Tanh()\n",
            "              )\n",
            "              (psi): Sequential(\n",
            "                (0): ReplicationPad1d((3, 3))\n",
            "                (1): Conv1d(10, 10, kernel_size=(5,), stride=(1,))\n",
            "                (2): LeakyReLU(negative_slope=0.01, inplace=True)\n",
            "                (3): Dropout(p=0.5, inplace=False)\n",
            "                (4): Conv1d(10, 10, kernel_size=(3,), stride=(1,))\n",
            "                (5): Tanh()\n",
            "              )\n",
            "              (P): Sequential(\n",
            "                (0): ReplicationPad1d((3, 3))\n",
            "                (1): Conv1d(10, 10, kernel_size=(5,), stride=(1,))\n",
            "                (2): LeakyReLU(negative_slope=0.01, inplace=True)\n",
            "                (3): Dropout(p=0.5, inplace=False)\n",
            "                (4): Conv1d(10, 10, kernel_size=(3,), stride=(1,))\n",
            "                (5): Tanh()\n",
            "              )\n",
            "              (U): Sequential(\n",
            "                (0): ReplicationPad1d((3, 3))\n",
            "                (1): Conv1d(10, 10, kernel_size=(5,), stride=(1,))\n",
            "                (2): LeakyReLU(negative_slope=0.01, inplace=True)\n",
            "                (3): Dropout(p=0.5, inplace=False)\n",
            "                (4): Conv1d(10, 10, kernel_size=(3,), stride=(1,))\n",
            "                (5): Tanh()\n",
            "              )\n",
            "            )\n",
            "          )\n",
            "        )\n",
            "      )\n",
            "      (SCINet_Tree_even): SCINet_Tree(\n",
            "        (workingblock): LevelSCINet(\n",
            "          (interact): InteractorLevel(\n",
            "            (level): Interactor(\n",
            "              (split): Splitting()\n",
            "              (phi): Sequential(\n",
            "                (0): ReplicationPad1d((3, 3))\n",
            "                (1): Conv1d(10, 10, kernel_size=(5,), stride=(1,))\n",
            "                (2): LeakyReLU(negative_slope=0.01, inplace=True)\n",
            "                (3): Dropout(p=0.5, inplace=False)\n",
            "                (4): Conv1d(10, 10, kernel_size=(3,), stride=(1,))\n",
            "                (5): Tanh()\n",
            "              )\n",
            "              (psi): Sequential(\n",
            "                (0): ReplicationPad1d((3, 3))\n",
            "                (1): Conv1d(10, 10, kernel_size=(5,), stride=(1,))\n",
            "                (2): LeakyReLU(negative_slope=0.01, inplace=True)\n",
            "                (3): Dropout(p=0.5, inplace=False)\n",
            "                (4): Conv1d(10, 10, kernel_size=(3,), stride=(1,))\n",
            "                (5): Tanh()\n",
            "              )\n",
            "              (P): Sequential(\n",
            "                (0): ReplicationPad1d((3, 3))\n",
            "                (1): Conv1d(10, 10, kernel_size=(5,), stride=(1,))\n",
            "                (2): LeakyReLU(negative_slope=0.01, inplace=True)\n",
            "                (3): Dropout(p=0.5, inplace=False)\n",
            "                (4): Conv1d(10, 10, kernel_size=(3,), stride=(1,))\n",
            "                (5): Tanh()\n",
            "              )\n",
            "              (U): Sequential(\n",
            "                (0): ReplicationPad1d((3, 3))\n",
            "                (1): Conv1d(10, 10, kernel_size=(5,), stride=(1,))\n",
            "                (2): LeakyReLU(negative_slope=0.01, inplace=True)\n",
            "                (3): Dropout(p=0.5, inplace=False)\n",
            "                (4): Conv1d(10, 10, kernel_size=(3,), stride=(1,))\n",
            "                (5): Tanh()\n",
            "              )\n",
            "            )\n",
            "          )\n",
            "        )\n",
            "      )\n",
            "    )\n",
            "  )\n",
            ")\n"
          ]
        }
      ]
    },
    {
      "cell_type": "markdown",
      "source": [
        "## 3) Train the Model"
      ],
      "metadata": {
        "id": "n_W0q1MsPQ9v"
      }
    },
    {
      "cell_type": "code",
      "source": [
        "import torch\n",
        "import torch.optim as optim\n",
        "from torch.utils.data import TensorDataset, DataLoader\n",
        "\n",
        "# Check for a GPU and set the default device accordingly\n",
        "device = torch.device(\"cuda\" if torch.cuda.is_available() else \"cpu\")\n",
        "print(f\"Using {'GPU' if device.type == 'cuda' else 'CPU'} for training.\")\n",
        "\n",
        "# Define a loss function and optimizer\n",
        "criterion = torch.nn.MSELoss()  # Mean Squared Error Loss\n",
        "optimizer = optim.Adam(model.parameters(), lr=0.001)  # Adam optimizer with a learning rate of 0.001\n",
        "\n",
        "# Define the batch size for mini-batch training\n",
        "batch_size = 32  # Adjust this according to the memory capacity of your GPU\n",
        "\n",
        "# Split data into training and validation sets\n",
        "train_size = int(0.8 * len(inputs))  # 80% of data for training\n",
        "val_size = len(inputs) - train_size  # 20% of data for validation\n",
        "\n",
        "# Create DataLoaders for training and validation\n",
        "train_dataset = TensorDataset(inputs[:train_size], labels[:train_size])\n",
        "val_dataset = TensorDataset(inputs[train_size:], labels[train_size:])\n",
        "\n",
        "train_loader = DataLoader(dataset=train_dataset, batch_size=batch_size, shuffle=True)\n",
        "val_loader = DataLoader(dataset=val_dataset, batch_size=batch_size, shuffle=False)\n",
        "\n",
        "# Move the model to the device (GPU or CPU)\n",
        "model = model.to(device)\n",
        "\n",
        "# Training loop\n",
        "epochs = 10  # Number of epochs\n",
        "for epoch in range(epochs):\n",
        "    model.train()  # Set the model to training mode\n",
        "    total_train_loss = 0.0\n",
        "\n",
        "    for batch_inputs, batch_labels in train_loader:\n",
        "        # Move batch data to the device\n",
        "        batch_inputs, batch_labels = batch_inputs.to(device), batch_labels.to(device)\n",
        "\n",
        "        # Zero the parameter gradients\n",
        "        optimizer.zero_grad()\n",
        "\n",
        "        # Forward pass\n",
        "        outputs = model(batch_inputs)\n",
        "\n",
        "        # Assume we only want to predict one future value at the last time step\n",
        "        # outputs shape is [batch_size, sequence_length, num_features]\n",
        "        # Let's take the last feature for the last time step\n",
        "        predictions = outputs[:, -1, -1].unsqueeze(1)  # Reshape to [batch_size, 1]\n",
        "\n",
        "        # Calculate loss\n",
        "        loss = criterion(predictions, batch_labels)\n",
        "\n",
        "        # Backward pass and optimize\n",
        "        loss.backward()\n",
        "        optimizer.step()\n",
        "\n",
        "        total_train_loss += loss.item()\n",
        "\n",
        "    # Calculate and print the average loss per epoch\n",
        "    avg_train_loss = total_train_loss / len(train_loader)\n",
        "    print(f'Epoch [{epoch+1}/{epochs}], Training Loss: {avg_train_loss:.4f}', end='')\n",
        "\n",
        "    # Validation phase\n",
        "    model.eval()  # Set the model to evaluation mode\n",
        "    total_val_loss = 0.0\n",
        "    with torch.no_grad():\n",
        "        for val_inputs, val_labels in val_loader:\n",
        "            # Move validation batch data to the device\n",
        "            val_inputs, val_labels = val_inputs.to(device), val_labels.to(device)\n",
        "\n",
        "            # Forward pass\n",
        "            val_outputs = model(val_inputs)\n",
        "            # Select the prediction for the last time step and last feature\n",
        "            val_predictions = val_outputs[:, -1, -1].unsqueeze(1)  # Reshape to [batch_size, 1]\n",
        "            val_loss = criterion(val_predictions, val_labels)\n",
        "            total_val_loss += val_loss.item()\n",
        "\n",
        "    # Calculate and print the validation loss\n",
        "    avg_val_loss = total_val_loss / len(val_loader)\n",
        "    print(f', Validation Loss: {avg_val_loss:.4f}')\n",
        "\n",
        "print('Finished Training')\n"
      ],
      "metadata": {
        "colab": {
          "base_uri": "https://localhost:8080/"
        },
        "id": "9WSetY3zNwsT",
        "outputId": "07274da8-1c73-462c-8997-7a397d5d700e"
      },
      "execution_count": 14,
      "outputs": [
        {
          "output_type": "stream",
          "name": "stdout",
          "text": [
            "Using CPU for training.\n",
            "Epoch [1/10], Training Loss: 4.2899, Validation Loss: 4.1160\n",
            "Epoch [2/10], Training Loss: 4.0677, Validation Loss: 4.0942\n",
            "Epoch [3/10], Training Loss: 4.0359, Validation Loss: 4.0690\n",
            "Epoch [4/10], Training Loss: 4.0103, Validation Loss: 4.0658\n",
            "Epoch [5/10], Training Loss: 3.9915, Validation Loss: 4.0626\n",
            "Epoch [6/10], Training Loss: 3.9860, Validation Loss: 4.0949\n",
            "Epoch [7/10], Training Loss: 3.9507, Validation Loss: 4.0928\n",
            "Epoch [8/10], Training Loss: 3.9198, Validation Loss: 4.1044\n",
            "Epoch [9/10], Training Loss: 3.8789, Validation Loss: 4.1366\n",
            "Epoch [10/10], Training Loss: 3.8569, Validation Loss: 4.0540\n",
            "Finished Training\n"
          ]
        }
      ]
    },
    {
      "cell_type": "markdown",
      "source": [
        "## 4) Evaluate and Visualize the Results"
      ],
      "metadata": {
        "id": "JXFuhng_aiDw"
      }
    },
    {
      "cell_type": "code",
      "source": [
        "import numpy as np\n",
        "import matplotlib.pyplot as plt\n",
        "\n",
        "# Function to evaluate the model on validation data\n",
        "def evaluate_model(model, val_loader, device):\n",
        "    model.eval()  # Set the model to evaluation mode\n",
        "    predictions = []\n",
        "    actuals = []\n",
        "    with torch.no_grad():  # No need to track the gradients\n",
        "        for val_inputs, val_labels in val_loader:\n",
        "            # Move validation batch data to the device\n",
        "            val_inputs, val_labels = val_inputs.to(device), val_labels.to(device)\n",
        "\n",
        "            # Forward pass to get outputs\n",
        "            val_outputs = model(val_inputs)\n",
        "\n",
        "            # Select the prediction for the last time step and last feature\n",
        "            val_predictions = val_outputs[:, -1, -1].unsqueeze(1)  # Reshape to [batch_size, 1]\n",
        "\n",
        "            # Store predictions and actual values\n",
        "            predictions.append(val_predictions.cpu().numpy())\n",
        "            actuals.append(val_labels.cpu().numpy())\n",
        "\n",
        "    return np.concatenate(predictions), np.concatenate(actuals)\n",
        "\n",
        "# Evaluate the model\n",
        "predicted, actual = evaluate_model(model, val_loader, device)\n",
        "\n",
        "# Calculate mean squared error over the validation set\n",
        "val_mse = ((predicted - actual) ** 2).mean()\n",
        "print(f\"Validation MSE: {val_mse}\")\n",
        "\n",
        "# Visualize the results with a plot\n",
        "plt.figure(figsize=(15, 5))\n",
        "plt.plot(actual[:150], label='Actual')\n",
        "plt.plot(predicted[:150], label='Predicted')\n",
        "plt.legend()\n",
        "plt.title('SCINet Predictions vs Actual')\n",
        "plt.show()\n"
      ],
      "metadata": {
        "colab": {
          "base_uri": "https://localhost:8080/",
          "height": 486
        },
        "id": "Uj0CL6f9aijf",
        "outputId": "0d6b4344-6ea6-4592-eae8-a1b926a25bb6"
      },
      "execution_count": 16,
      "outputs": [
        {
          "output_type": "stream",
          "name": "stdout",
          "text": [
            "Validation MSE: 4.057578086853027\n"
          ]
        },
        {
          "output_type": "display_data",
          "data": {
            "text/plain": [
              "<Figure size 1500x500 with 1 Axes>"
            ],
            "image/png": "[encoded data removed]"
          },
          "metadata": {}
        }
      ]
    },
    {
      "cell_type": "markdown",
      "source": [
        "\n",
        "An MSE of 4.06 indicates that there is room for improvement in the model's predictive capabilities. A lower MSE value closer to zero signifies better performance and a higher accuracy in predictions.\n",
        "\n",
        "The visualization above compares the first 150 predictions from the SCINet model against the actual values from the validation set:\n",
        "\n",
        "From this graph, we can draw several conclusions:\n",
        "\n",
        "- The model's predictions do not exhibit the same variability as the actual data, suggesting a potential underfitting issue.\n",
        "- The predictions are consistently lower than the actual values, which aligns with the obtained MSE, pointing to a systematic error in the model's forecasts.\n",
        "\n",
        "\n"
      ],
      "metadata": {
        "id": "LMknSQrgczP7"
      }
    },
    {
      "cell_type": "markdown",
      "source": [
        "## **Contribution Idea: Implementing a Multilayer Perceptron (MLP) Model**\n",
        "\n",
        "### **Overview**\n",
        "\n",
        "To add value to the existing SCINet-based forecasting methodology, we introduce a Multilayer Perceptron (MLP), a class of feedforward artificial neural network. This alternative model will be utilized to explore the impact of applying a fundamentally different neural network architecture on the time-series forecasting task.\n",
        "\n",
        "### **Objective**\n",
        "\n",
        "The aim is to investigate whether the MLP, with its simpler architecture compared to the intricate design of SCINet, can achieve comparable forecasting accuracy. This endeavor will help us understand the balance between model complexity, performance, and computational efficiency.\n",
        "\n",
        "### **Methodology**\n",
        "\n",
        "The MLP will be composed of multiple layers of neurons, including an input layer, several hidden layers, and an output layer. The implementation steps will be as follows:\n",
        "\n",
        "1. Design the MLP architecture with an optimized number of layers and neurons.\n",
        "2. Train the MLP model on the same dataset used for training the SCINet model.\n",
        "3. Compute the performance of the MLP using metrics such as Mean Squared Error (MSE) on the validation set.\n",
        "4. Visually compare the predictions from the MLP model to the actual data to assess its predictive capabilities.\n",
        "\n",
        "### **Expected Outcomes**\n",
        "\n",
        "The introduction of the MLP model into our forecasting methodology is expected to:\n",
        "\n",
        "- Provide a benchmark for comparison with the SCINet model regarding accuracy and computational requirements.\n",
        "- Offer insights into the potential benefits of employing simpler models in certain forecasting scenarios.\n",
        "- Contribute to a broader understanding of the strengths and limitations of different neural network approaches in time-series analysis.\n",
        "\n",
        "The subsequent sections will detail the training process, evaluation metrics, and analysis of the MLP's performance against the SCINet model.\n"
      ],
      "metadata": {
        "id": "GdDzVhe2h_Lf"
      }
    },
    {
      "cell_type": "markdown",
      "source": [
        "## 1) Train the MLP Model"
      ],
      "metadata": {
        "id": "JCypxpGPiK4b"
      }
    },
    {
      "cell_type": "code",
      "source": [
        "import torch\n",
        "from torch import nn\n",
        "import torch.optim as optim\n",
        "from torch.utils.data import TensorDataset, DataLoader\n",
        "\n",
        "# Assuming 'inputs' and 'labels' are already defined and preprocessed\n",
        "\n",
        "# Set device for training\n",
        "device = torch.device('cuda' if torch.cuda.is_available() else 'cpu')\n",
        "\n",
        "# Define the MLP model\n",
        "class MLP(nn.Module):\n",
        "    def __init__(self, input_dim, sequence_length, output_dim):\n",
        "        super(MLP, self).__init__()\n",
        "        self.fc1 = nn.Linear(input_dim * sequence_length, 128)  # Flatten input\n",
        "        self.relu = nn.ReLU()\n",
        "        self.fc2 = nn.Linear(128, output_dim)\n",
        "\n",
        "    def forward(self, x):\n",
        "        x = x.view(x.size(0), -1)  # Flatten the input\n",
        "        x = self.fc1(x)\n",
        "        x = self.relu(x)\n",
        "        x = self.fc2(x)\n",
        "        return x\n",
        "\n",
        "# Initialize the MLP\n",
        "input_dim = inputs.shape[2]  # Assuming [batch, seq, feature]\n",
        "sequence_length = inputs.shape[1]\n",
        "mlp = MLP(input_dim, sequence_length, output_dim=1)\n",
        "mlp = mlp.to(device)\n",
        "\n",
        "# Loss function and optimizer\n",
        "criterion = nn.MSELoss()\n",
        "optimizer = optim.Adam(mlp.parameters(), lr=0.001)\n",
        "\n",
        "# Split the dataset into training and validation sets\n",
        "train_size = int(0.8 * len(inputs))\n",
        "val_size = len(inputs) - train_size\n",
        "\n",
        "train_inputs, val_inputs = inputs[:train_size], inputs[train_size:]\n",
        "train_labels, val_labels = labels[:train_size], labels[train_size:]\n",
        "\n",
        "# Create DataLoaders for the training and validation sets\n",
        "train_dataset = TensorDataset(train_inputs, train_labels)\n",
        "val_dataset = TensorDataset(val_inputs, val_labels)\n",
        "\n",
        "train_loader = DataLoader(train_dataset, batch_size=32, shuffle=True)\n",
        "val_loader = DataLoader(val_dataset, batch_size=32)\n",
        "\n",
        "# Training the model\n",
        "epochs = 10\n",
        "for epoch in range(epochs):\n",
        "    mlp.train()\n",
        "    total_loss = 0.0\n",
        "    for data, target in train_loader:\n",
        "        data, target = data.to(device), target.to(device)\n",
        "\n",
        "        optimizer.zero_grad()\n",
        "        output = mlp(data)\n",
        "        loss = criterion(output, target.view(-1, 1))\n",
        "        loss.backward()\n",
        "        optimizer.step()\n",
        "\n",
        "        total_loss += loss.item()\n",
        "\n",
        "    print(f'Epoch {epoch+1}/{epochs}, Loss: {total_loss/len(train_loader)}')\n",
        "\n",
        "# Validate the model\n",
        "mlp.eval()\n",
        "with torch.no_grad():\n",
        "    valid_loss = 0.0\n",
        "    for data, target in val_loader:\n",
        "        data, target = data.to(device), target.to(device)\n",
        "        output = mlp(data)\n",
        "        loss = criterion(output, target.view(-1, 1))\n",
        "        valid_loss += loss.item()\n",
        "\n",
        "    print(f'Validation Loss: {valid_loss/len(val_loader)}')\n"
      ],
      "metadata": {
        "colab": {
          "base_uri": "https://localhost:8080/"
        },
        "id": "-LypijcniLk_",
        "outputId": "c040a834-f0c1-437f-9431-deef88add7f6"
      },
      "execution_count": 17,
      "outputs": [
        {
          "output_type": "stream",
          "name": "stdout",
          "text": [
            "Epoch 1/10, Loss: 4.174756318193427\n",
            "Epoch 2/10, Loss: 4.027068873841642\n",
            "Epoch 3/10, Loss: 4.018150806427002\n",
            "Epoch 4/10, Loss: 3.953933275789709\n",
            "Epoch 5/10, Loss: 3.9673179497916577\n",
            "Epoch 6/10, Loss: 3.950590295725704\n",
            "Epoch 7/10, Loss: 3.9633097324503184\n",
            "Epoch 8/10, Loss: 3.931569139254258\n",
            "Epoch 9/10, Loss: 3.921826893283475\n",
            "Epoch 10/10, Loss: 3.8990198827009594\n",
            "Validation Loss: 4.084223153394297\n"
          ]
        }
      ]
    },
    {
      "cell_type": "markdown",
      "source": [
        "\n",
        "The Multilayer Perceptron (MLP) model has been trained over 10 epochs, demonstrating a progressive decrease in the training loss at each epoch.\n",
        "\n",
        "The model's performance on the validation set resulted in a loss of 4.08. This metric is indicative of how well the model might perform when making predictions on new, unseen data.\n",
        "\n",
        "The consistent decline in training loss suggests that the model is learning effectively over time. However, given the validation loss, we can surmise there may be some overfitting to the training data or a need for further tuning of the model's hyperparameters to improve its generalization on unseen data.\n",
        "\n",
        "These results serve as a benchmark for future iterations of model tuning and enhancements.\n"
      ],
      "metadata": {
        "id": "IZ3dkVLjj_th"
      }
    },
    {
      "cell_type": "markdown",
      "source": [
        "## 2) Evaluate the MLP Model"
      ],
      "metadata": {
        "id": "oqm2cgfZkPmH"
      }
    },
    {
      "cell_type": "code",
      "source": [
        "import numpy as np\n",
        "from sklearn.metrics import mean_squared_error\n",
        "\n",
        "# Assuming 'val_loader' is already defined and 'mlp' is trained\n",
        "\n",
        "def evaluate(model, loader, device):\n",
        "    model.eval()  # Set the model to evaluation mode\n",
        "    predictions = []\n",
        "    actuals = []\n",
        "\n",
        "    with torch.no_grad():\n",
        "        for inputs, labels in loader:\n",
        "            inputs = inputs.to(device)\n",
        "            labels = labels.to(device)\n",
        "            outputs = model(inputs)\n",
        "            predictions.extend(outputs.detach().cpu().numpy())\n",
        "            actuals.extend(labels.detach().cpu().numpy())\n",
        "\n",
        "    return predictions, actuals\n",
        "\n",
        "# Evaluate the model\n",
        "predictions, actuals = evaluate(mlp, val_loader, device)\n",
        "\n",
        "# Calculate the Mean Squared Error\n",
        "mse = mean_squared_error(actuals, predictions)\n",
        "\n",
        "print(f'Evaluation MSE: {mse}')\n"
      ],
      "metadata": {
        "colab": {
          "base_uri": "https://localhost:8080/"
        },
        "id": "tfE-y4-CkTmf",
        "outputId": "899bf004-5992-4372-e62b-34722eb3919b"
      },
      "execution_count": 18,
      "outputs": [
        {
          "output_type": "stream",
          "name": "stdout",
          "text": [
            "Evaluation MSE: 4.081639289855957\n"
          ]
        }
      ]
    },
    {
      "cell_type": "markdown",
      "source": [
        "The Multilayer Perceptron (MLP) model's performance on the validation dataset has been quantitatively assessed using the Mean Squared Error (MSE), a standard metric that captures the average of the squares of the errors. The MSE for our MLP model is **4.08**\n",
        "\n",
        "\n",
        "This MSE value is a benchmark of the model's prediction accuracy and gives us a baseline for comparison with other models.\n",
        "\n",
        "### Comparative Analysis: MLP vs. SCINet\n",
        "\n",
        "Upon completing the evaluation of the MLP model, we compared its performance to that of the previously implemented SCINet model. The comparison is based on their respective MSEs on the validation dataset. The SCINet model's MSE was recorded during its evaluation phase and now serves as a reference point.\n",
        "\n",
        "The close MSE values suggest that the MLP, with its simpler and more straightforward architecture, performs comparably to the SCINet in terms of prediction accuracy. This result is particularly interesting because it indicates that even a less complex neural network can yield similar accuracy levels to a more sophisticated model like the SCINet.\n",
        "\n",
        "The implication of these findings is twofold:\n",
        "\n",
        "1. **Model Complexity vs. Performance:** Despite the inherent architectural complexity of SCINet designed to capture temporal patterns, the MLP holds up well, highlighting that complex models are not always necessary for achieving high accuracy in forecasting tasks.\n",
        "\n",
        "2. **Consideration of Use-case:** The MLP may offer benefits in terms of computational efficiency, ease of training, and potentially greater interpretability, which are significant factors in practical applications.\n",
        "\n",
        "The insights gained from this comparative study emphasize the necessity to tailor model selection to the specific needs and constraints of the forecasting task at hand. Future research directions could include further optimization of the MLP, integrating ensemble methods, or investigating the impact of additional data preprocessing techniques on model performance.\n",
        "\n",
        "\n"
      ],
      "metadata": {
        "id": "SkQ6nhgnmftU"
      }
    },
    {
      "cell_type": "markdown",
      "source": [
        "## 3) Calculate Performance Metrics"
      ],
      "metadata": {
        "id": "l_XFKSvXng1w"
      }
    },
    {
      "cell_type": "code",
      "source": [
        "from sklearn.metrics import mean_squared_error, mean_absolute_error\n",
        "\n",
        "# Make sure 'predictions' and 'actuals' are numpy arrays from the evaluation step\n",
        "predictions = np.array(predictions)\n",
        "actuals = np.array(actuals)\n",
        "\n",
        "# Calculate MSE\n",
        "mse = mean_squared_error(actuals, predictions)\n",
        "print(f'Mean Squared Error (MSE): {mse}')\n",
        "\n",
        "# Calculate RMSE\n",
        "rmse = mean_squared_error(actuals, predictions, squared=False)\n",
        "print(f'Root Mean Squared Error (RMSE): {rmse}')\n",
        "\n",
        "# Calculate MAE\n",
        "mae = mean_absolute_error(actuals, predictions)\n",
        "print(f'Mean Absolute Error (MAE): {mae}')\n"
      ],
      "metadata": {
        "colab": {
          "base_uri": "https://localhost:8080/"
        },
        "id": "cj20dHTunhLv",
        "outputId": "371c02ee-7f95-4c55-99da-950e41673ccc"
      },
      "execution_count": 19,
      "outputs": [
        {
          "output_type": "stream",
          "name": "stdout",
          "text": [
            "Mean Squared Error (MSE): 4.081639289855957\n",
            "Root Mean Squared Error (RMSE): 2.0203068256378174\n",
            "Mean Absolute Error (MAE): 1.7495770454406738\n"
          ]
        }
      ]
    },
    {
      "cell_type": "markdown",
      "source": [
        "## 4) Visualize Predictions vs Actuals"
      ],
      "metadata": {
        "id": "5Na-H-sGoSho"
      }
    },
    {
      "cell_type": "code",
      "source": [
        "import matplotlib.pyplot as plt\n",
        "\n",
        "# Assuming predictions and actuals are numpy arrays from the evaluate step\n",
        "# and that they are flattened (1D arrays). If they are not, you might need to flatten them using .flatten()\n",
        "\n",
        "# Plot the first 'n' predictions vs actuals for comparison\n",
        "n = 150  # Define the number of points you want to display in the plot\n",
        "\n",
        "plt.figure(figsize=(12, 6))  # Set the figure size\n",
        "\n",
        "# Plot actual values\n",
        "plt.plot(actuals[:n], label='Actual Values', color='blue', marker='.')\n",
        "\n",
        "# Plot predicted values\n",
        "plt.plot(predictions[:n], label='MLP Predictions', color='red', linestyle='--', marker='o')\n",
        "\n",
        "plt.title('Comparison of MLP Predictions and Actual Values')  # Title of the plot\n",
        "plt.xlabel('Time Steps')  # X-axis label\n",
        "plt.ylabel('Predicted/Actual Value')  # Y-axis label\n",
        "plt.legend()  # Show legend\n",
        "plt.grid(True)  # Show grid\n",
        "plt.show()  # Display the plot\n"
      ],
      "metadata": {
        "colab": {
          "base_uri": "https://localhost:8080/",
          "height": 564
        },
        "id": "cDhGFRbooTAf",
        "outputId": "06f289a6-0942-4c8d-f63a-b0dcf508e369"
      },
      "execution_count": 20,
      "outputs": [
        {
          "output_type": "display_data",
          "data": {
            "text/plain": [
              "<Figure size 1200x600 with 1 Axes>"
            ],
            "image/png": "[encoded data removed]"
          },
          "metadata": {}
        }
      ]
    },
    {
      "cell_type": "markdown",
      "source": [
        "\n",
        "\n",
        "The plot presents a comparison between the predictions made by our trained Multilayer Perceptron (MLP) model and the actual values from the validation dataset. We visualized the first 150 data points to provide a clear and concise comparison.\n",
        "\n",
        "\n",
        "### **Observations from the Visualization:**\n",
        "\n",
        "- The **blue line** represents the actual values from the dataset. These are the true observations that the model aims to predict.\n",
        "- The **red line** with dots depicts the predictions made by the MLP model.\n",
        "\n",
        "From the plot, it is evident that:\n",
        "\n",
        "- The MLP predictions follow a certain trend but do not capture the sharp fluctuations present in the actual data.\n",
        "- There is a consistent offset between the predictions and the actual values, which is reflected in the performance metrics previously calculated.\n",
        "\n",
        "### **Implications:**\n",
        "\n",
        "This visual analysis provides an intuitive understanding of the model's predictive capabilities. Although the MLP model can follow the general trend of the time series, it struggles to match the precise values, especially when there are sudden changes in the data.\n",
        "\n",
        "The lack of sharp fluctuation capture by the MLP might indicate a need for more complex model architectures or feature engineering that better encapsulates the time-dependent behavior of the dataset. Alternatively, the model may benefit from techniques like anomaly detection for the sharp spikes or from a different loss function that penalizes these discrepancies more significantly.\n",
        "\n",
        "\n"
      ],
      "metadata": {
        "id": "rCJY1NcYpTXv"
      }
    },
    {
      "cell_type": "markdown",
      "metadata": {
        "id": "-YdFCgWoh-j3"
      },
      "source": [
        "### **Results :**\n",
        "The project yielded insightful results with the SCINet and MLP models applied to the ETTh1.csv dataset. The SCINet model demonstrated promising accuracy, while the MLP provided a competitive baseline, challenging the necessity for complex architectures in certain forecasting tasks.\n",
        "\n",
        "\n",
        "\n",
        "*******************************************************************************************************************************\n",
        "\n",
        "\n",
        "#### **Observations :**\n",
        "The SCINet predictions closely followed the general trends of the dataset, while the MLP model, despite its simpler structure, offered comparable accuracy. These findings suggest a potential trade-off between model complexity and performance efficiency.\n",
        "*******************************************************************************************************************************\n",
        "*\n"
      ]
    },
    {
      "cell_type": "markdown",
      "metadata": {
        "id": "s3JVj9dKh-j3"
      },
      "source": [
        "### **Conclusion and Future Direction :**\n",
        "This project confirms the potential of deep learning models in forecasting complex time series data and opens pathways for further research into model optimization, comparative analyses, and the exploration of different neural network architectures.\n",
        "*******************************************************************************************************************************\n",
        "#### **Learnings :**\n",
        "We learned the importance of data preprocessing, feature selection, and the delicate balance between model complexity and overfitting. This project also provided valuable practical experience in training and evaluating deep learning models for time series forecasting.\n",
        "\n",
        "*******************************************************************************************************************************\n",
        "#### **Results Discussion :**\n",
        "The comparative analysis between the SCINet and MLP models revealed several key findings. The SCINet, with its specialized architecture designed to unravel complex temporal patterns, demonstrated an ability to capture the underlying trends within the ETTh1.csv dataset effectively. However, it was observed that the SCINet's performance, while satisfactory, could potentially be enhanced, as the model did not perfectly align with the actual data's volatility. This suggests that while SCINet is adept at understanding and forecasting time series data, there's room for refinement, especially in capturing abrupt changes and anomalies in the dataset.\n",
        "\n",
        "On the other hand, the MLP model, despite its simpler architecture, delivered results that were on par with those of SCINet. This was a notable outcome as it challenged the preconceived notion that complexity in model architecture is directly proportional to forecasting accuracy. The MLP's performance underlines the importance of architectural efficiency and raises questions about the necessity for complex structures in certain forecasting scenarios.\n",
        "\n",
        "The MSE values obtained from both models were close, indicating that both models have managed to learn from the dataset to a similar extent. However, this also points to the possibility of overfitting, as the models may have become too attuned to the training data, compromising their generalizability. Moreover, neither model achieved an MSE close to zero, which would indicate a near-perfect predictive performance.\n",
        "\n",
        "*******************************************************************************************************************************\n",
        "#### **Limitations :**\n",
        "The study acknowledges limitations such as potential model overfitting and the challenges in hyperparameter tuning. There is also a need for extensive validation across various datasets to ensure the generalizability of the models.\n",
        "\n",
        "\n",
        "\n",
        "*******************************************************************************************************************************\n",
        "#### **Future Extension :**\n",
        "Future work could involve enhancing the MLP model, exploring hybrid approaches, and investigating the impact of additional variables on forecasting accuracy. The exploration of alternative loss functions and anomaly detection techniques also presents exciting avenues for research.\n"
      ]
    },
    {
      "cell_type": "markdown",
      "metadata": {
        "id": "CQnMSAf-h-j4"
      },
      "source": [
        "## **References**\n",
        "\n",
        "1. SCINet Model Implementation. Cure-lab/SCINet. Available at [GitHub repository](https://github.com/cure-lab/SCINet/blob/main/models/SCINet.py).\n",
        "\n",
        "2. Time Series is a Special Sequence: Forecasting with Sample Convolution and Interaction. Papers With Code. Available at [Papers with Code](https://paperswithcode.com/paper/time-series-is-a-special-sequence-forecasting).\n",
        "\n",
        "3. Liu, S., Rong, Y., Besserve, M., Schölkopf, B., & Zhang, C. (2021). Time Series is a Special Sequence: Forecasting with Sample Convolution and Interaction. *arXiv preprint arXiv:2106.09305v3*. Available at [arXiv](https://arxiv.org/pdf/2106.09305v3.pdf).\n"
      ]
    },
    {
      "cell_type": "code",
      "source": [],
      "metadata": {
        "id": "5Wa3Dsrn0-24"
      },
      "execution_count": null,
      "outputs": []
    }
  ],
  "metadata": {
    "colab": {
      "provenance": []
    },
    "kernelspec": {
      "display_name": "Python 3 (ipykernel)",
      "language": "python",
      "name": "python3"
    },
    "language_info": {
      "codemirror_mode": {
        "name": "ipython",
        "version": 3
      },
      "file_extension": ".py",
      "mimetype": "text/x-python",
      "name": "python",
      "nbconvert_exporter": "python",
      "pygments_lexer": "ipython3",
      "version": "3.11.5"
    }
  },
  "nbformat": 4,
  "nbformat_minor": 0
}